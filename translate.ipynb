{
 "cells": [
  {
   "cell_type": "code",
   "execution_count": 2,
   "metadata": {},
   "outputs": [],
   "source": [
    "import json\n",
    "import requests\n"
   ]
  },
  {
   "cell_type": "code",
   "execution_count": 64,
   "metadata": {},
   "outputs": [],
   "source": [
    "with open('src/components/servicesContent.json', 'r') as f:\n",
    "    content = json.load(f)\n",
    "\n",
    "with open('src/.credentials.json', 'r') as f:\n",
    "    deep_key = json.load(f)[\"deepl_api_key\"]\n",
    "\n",
    "data = content[\"fr\"]"
   ]
  },
  {
   "cell_type": "code",
   "execution_count": 65,
   "metadata": {},
   "outputs": [],
   "source": [
    "def translate(data, lang_initial=\"fr\", lang_to_trans=\"en\"):\n",
    "    if isinstance(data, str):\n",
    "        # r = requests.get('https://api-free.deepl.com/v2/translate', data={\"auth_key\":deep_key, \"text\":data, \"target_lang\": lang_to_trans.upper() })\n",
    "        # if r.status_code == 200:\n",
    "        #     return json.loads(r.content)[\"translations\"][0][\"text\"]\n",
    "        # else:\n",
    "        #     return \"deepl request failed\"\n",
    "        return data + \" !!! translated !!! \"\n",
    "\n",
    "    elif isinstance(data, dict):\n",
    "        for key in data.keys():\n",
    "            if not key.upper() == key:\n",
    "                data[key] = translate(data[key])\n",
    "            \n",
    "    elif isinstance(data, list):\n",
    "        for i, elt in enumerate(data):\n",
    "            data[i] = translate(elt)\n",
    "    else:\n",
    "        print(\"type inconnu : \" + str(type(data)))\n",
    "\n",
    "    return data\n",
    "\n"
   ]
  },
  {
   "cell_type": "code",
   "execution_count": 94,
   "metadata": {},
   "outputs": [
    {
     "ename": "NameError",
     "evalue": "name 'g' is not defined",
     "output_type": "error",
     "traceback": [
      "\u001b[0;31m---------------------------------------------------------------------------\u001b[0m",
      "\u001b[0;31mNameError\u001b[0m                                 Traceback (most recent call last)",
      "\u001b[0;32m/tmp/ipykernel_296509/3053792503.py\u001b[0m in \u001b[0;36m<module>\u001b[0;34m\u001b[0m\n\u001b[1;32m     12\u001b[0m \u001b[0;31m# l=[1,2,3,4]\u001b[0m\u001b[0;34m\u001b[0m\u001b[0;34m\u001b[0m\u001b[0;34m\u001b[0m\u001b[0m\n\u001b[1;32m     13\u001b[0m \u001b[0;31m# l[1:-1]\u001b[0m\u001b[0;34m\u001b[0m\u001b[0;34m\u001b[0m\u001b[0;34m\u001b[0m\u001b[0m\n\u001b[0;32m---> 14\u001b[0;31m \u001b[0mg\u001b[0m\u001b[0;34m\u001b[0m\u001b[0;34m\u001b[0m\u001b[0m\n\u001b[0m",
      "\u001b[0;31mNameError\u001b[0m: name 'g' is not defined"
     ]
    }
   ],
   "source": [
    "# translate(data)\n",
    "# a={\n",
    "#     \"fr\":{\n",
    "#         \"en\":{\n",
    "#             \"aa\":5\n",
    "#         }\n",
    "#     }\n",
    "# }\n",
    "# b = a[\"fr\"][\"en\"]\n",
    "# b[\"aa\"] = 6\n",
    "# a\n",
    "# l=[1,2,3,4]\n",
    "# l[1:-1]\n",
    "g"
   ]
  },
  {
   "cell_type": "code",
   "execution_count": 96,
   "metadata": {},
   "outputs": [
    {
     "data": {
      "text/plain": [
       "'#####'"
      ]
     },
     "execution_count": 96,
     "metadata": {},
     "output_type": "execute_result"
    }
   ],
   "source": [
    "# target = [\"fr\", \"data\", \"services\", 1]\n",
    "\n",
    "# to_trans = content.copy()\n",
    "# for key in target:\n",
    "#     to_trans = to_trans[key]\n",
    "\n",
    "# to_trans\n",
    "a=\"#\"\n",
    "a*5"
   ]
  }
 ],
 "metadata": {
  "interpreter": {
   "hash": "cfd8684c7f53546f7fdc85df00f20bbd1266ef94d3e3b65674cf698d02319b94"
  },
  "kernelspec": {
   "display_name": "Python 3.8.10 64-bit ('base': conda)",
   "language": "python",
   "name": "python3"
  },
  "language_info": {
   "codemirror_mode": {
    "name": "ipython",
    "version": 3
   },
   "file_extension": ".py",
   "mimetype": "text/x-python",
   "name": "python",
   "nbconvert_exporter": "python",
   "pygments_lexer": "ipython3",
   "version": "3.8.10"
  },
  "orig_nbformat": 4
 },
 "nbformat": 4,
 "nbformat_minor": 2
}
